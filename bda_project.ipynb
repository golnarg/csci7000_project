{
 "cells": [
  {
   "cell_type": "code",
   "execution_count": 1,
   "metadata": {
    "collapsed": true
   },
   "outputs": [],
   "source": [
    "import tensorflow as tf\n",
    "import json\n",
    "import numpy as np"
   ]
  },
  {
   "cell_type": "code",
   "execution_count": 19,
   "metadata": {},
   "outputs": [
    {
     "name": "stdout",
     "output_type": "stream",
     "text": [
      "INFO:tensorflow:Using default config.\n",
      "WARNING:tensorflow:Using temporary folder as model directory: /var/folders/dr/9dqt0xgd2ng_4l3n_n8z9v9h0000gn/T/tmpivoo084v\n",
      "INFO:tensorflow:Using config: {'_model_dir': '/var/folders/dr/9dqt0xgd2ng_4l3n_n8z9v9h0000gn/T/tmpivoo084v', '_tf_random_seed': None, '_save_summary_steps': 100, '_save_checkpoints_steps': None, '_save_checkpoints_secs': 600, '_session_config': None, '_keep_checkpoint_max': 5, '_keep_checkpoint_every_n_hours': 10000, '_log_step_count_steps': 100, '_service': None, '_cluster_spec': <tensorflow.python.training.server_lib.ClusterSpec object at 0x1108802b0>, '_task_type': 'worker', '_task_id': 0, '_master': '', '_is_chief': True, '_num_ps_replicas': 0, '_num_worker_replicas': 1}\n"
     ]
    }
   ],
   "source": [
    "features = np.array([\"nodes_used\", \"processors_used\", \"mem_used\", \"vmem_used\", \"interactive\"])\n",
    "NUM_TRAIN_EXAMPLES = 5000\n",
    "NUM_TEST_EXAMPLES = 100\n",
    "X_train, X_test = {}, {}\n",
    "y_train, y_test = np.zeros(NUM_TRAIN_EXAMPLES, dtype=np.int), np.zeros(NUM_TEST_EXAMPLES, dtype=np.int)\n",
    "my_feature_columns = []\n",
    "\n",
    "for key in features:\n",
    "    my_feature_columns.append(tf.feature_column.numeric_column(key=key))\n",
    "    \n",
    "estimator = tf.estimator.DNNClassifier(\n",
    "                            feature_columns=my_feature_columns,\n",
    "                            hidden_units=[10,10],\n",
    "                            n_classes=4)"
   ]
  },
  {
   "cell_type": "code",
   "execution_count": 20,
   "metadata": {},
   "outputs": [],
   "source": [
    "def train_input_fn(features, labels):\n",
    "    return tf.data.Dataset.from_tensor_slices((features, labels)).batch(10)\n",
    "\n",
    "def eval_input_fn(features, labels):\n",
    "    if labels is None:\n",
    "        inputs = features\n",
    "    else:\n",
    "        inputs = (features, labels)\n",
    "        \n",
    "    return tf.data.Dataset.from_tensor_slices(inputs).batch(10)\n",
    "      \n",
    "def create_feature_vectors(X, features, obj, iteration):\n",
    "    for ind, feature in enumerate(features):\n",
    "        if feature not in X:\n",
    "            X[feature] = np.zeros(NUM_TRAIN_EXAMPLES)\n",
    "            X[feature][0] = float(obj[\"job\"][feature])\n",
    "        else:\n",
    "            try:\n",
    "                X[feature][iterations] = float(obj[\"job\"][feature])\n",
    "            except TypeError:\n",
    "                X[feature][iterations] = 1.0        \n",
    "\n",
    "def create_labels(y, obj, iteration):\n",
    "        if obj[\"job\"][\"queue\"] == \"batch\":\n",
    "            y[iterations] = 1\n",
    "        else:\n",
    "            y[iterations] = 0\n",
    "    \n",
    "    \n",
    "with open(\"10k.anon.json\") as data: \n",
    "    iterations = 0\n",
    "    for line in data:\n",
    "        if iterations < NUM_TRAIN_EXAMPLES:\n",
    "            obj = json.loads(line)\n",
    "    \n",
    "            for ind, feature in enumerate(features):\n",
    "                if feature not in X_train:\n",
    "                    X_train[feature] = np.zeros(NUM_TRAIN_EXAMPLES)\n",
    "                    X_train[feature][0] = float(obj[\"job\"][feature])\n",
    "                else:\n",
    "                    try:\n",
    "                        X_train[feature][iterations] = float(obj[\"job\"][feature])\n",
    "                    except TypeError:\n",
    "                        X_train[feature][iterations] = 1.0\n",
    "\n",
    "            true_label = obj[\"job\"][\"queue\"] \n",
    "            if true_label == \"debug\":\n",
    "                y_train[iterations] = 0\n",
    "            elif true_label == \"batch\":\n",
    "                y_train[iterations] = 1\n",
    "            elif true_label == \"short\":\n",
    "                y_train[iterations] = 2\n",
    "            else:\n",
    "                y_train[iterations] = 3\n",
    "                \n",
    "            #create_feature_vectors(X_train, features, obj, iterations)\n",
    "            #create_labels(y_train, obj, iterations)\n",
    "            \n",
    "            iterations += 1\n",
    "        elif iterations < NUM_TRAIN_EXAMPLES + NUM_TEST_EXAMPLES:\n",
    "            for ind, feature in enumerate(features):\n",
    "                if feature not in X_test:\n",
    "                    X_test[feature] = np.zeros(NUM_TEST_EXAMPLES)\n",
    "                    X_test[feature][0] = float(obj[\"job\"][feature])\n",
    "                else:\n",
    "                    X_test[feature][iterations-NUM_TRAIN_EXAMPLES] = float(obj[\"job\"][feature])\n",
    "\n",
    "                    \n",
    "            true_label = obj[\"job\"][\"queue\"]\n",
    "            if true_label == \"debug\":\n",
    "                y_test[iterations-NUM_TRAIN_EXAMPLES] = 0\n",
    "            elif true_label == \"batch\":\n",
    "                y_test[iterations-NUM_TRAIN_EXAMPLES] = 1\n",
    "            elif true_label == \"short\":\n",
    "                y_test[iterations-NUM_TRAIN_EXAMPLES] = 2\n",
    "            else:\n",
    "                y_test[iterations-NUM_TRAIN_EXAMPLES] = 3\n",
    "                \n",
    "\n",
    "            #create_feature_vectors(X_test, features, obj, iterations)    \n",
    "            #create_labels(y_test, obj, iterations)    \n",
    "            \n",
    "            iterations += 1\n",
    "        else:\n",
    "            break\n",
    "        \n",
    "#print(X_train)\n",
    "#print(y_train)\n",
    "            \n"
   ]
  },
  {
   "cell_type": "code",
   "execution_count": 21,
   "metadata": {},
   "outputs": [
    {
     "name": "stdout",
     "output_type": "stream",
     "text": [
      "INFO:tensorflow:Create CheckpointSaverHook.\n",
      "INFO:tensorflow:Saving checkpoints for 1 into /var/folders/dr/9dqt0xgd2ng_4l3n_n8z9v9h0000gn/T/tmpivoo084v/model.ckpt.\n",
      "INFO:tensorflow:loss = 2.52004e+06, step = 1\n",
      "INFO:tensorflow:Saving checkpoints for 5 into /var/folders/dr/9dqt0xgd2ng_4l3n_n8z9v9h0000gn/T/tmpivoo084v/model.ckpt.\n",
      "INFO:tensorflow:Loss for final step: 7.65357.\n"
     ]
    },
    {
     "data": {
      "text/plain": [
       "<tensorflow.python.estimator.canned.dnn.DNNClassifier at 0x1102298d0>"
      ]
     },
     "execution_count": 21,
     "metadata": {},
     "output_type": "execute_result"
    }
   ],
   "source": [
    "estimator.train(\n",
    "                input_fn=lambda:train_input_fn(X_train, y_train),\n",
    "                steps=5)"
   ]
  },
  {
   "cell_type": "code",
   "execution_count": 22,
   "metadata": {},
   "outputs": [
    {
     "name": "stdout",
     "output_type": "stream",
     "text": [
      "INFO:tensorflow:Starting evaluation at 2018-04-08-21:26:09\n",
      "INFO:tensorflow:Restoring parameters from /var/folders/dr/9dqt0xgd2ng_4l3n_n8z9v9h0000gn/T/tmpivoo084v/model.ckpt-5\n",
      "INFO:tensorflow:Finished evaluation at 2018-04-08-21:26:09\n",
      "INFO:tensorflow:Saving dict for global step 5: accuracy = 1.0, average_loss = 1.02753, global_step = 5, loss = 10.2753\n"
     ]
    }
   ],
   "source": [
    "eval_result = estimator.evaluate(\n",
    "    input_fn=lambda:eval_input_fn(X_test, y_test)\n",
    "    )"
   ]
  },
  {
   "cell_type": "code",
   "execution_count": 36,
   "metadata": {},
   "outputs": [
    {
     "name": "stdout",
     "output_type": "stream",
     "text": [
      "batch\n",
      "batch\n",
      "batch\n",
      "batch\n",
      "{'nodes_used': array([ 1.,  0.,  0.,  0.,  0.]), 'processors_used': array([ 1.,  1.,  0.,  0.,  0.]), 'mem_used': array([ 0.,  0.,  0.,  0.,  0.]), 'vmem_used': array([ 0.,  0.,  0.,  0.,  0.]), 'interactive': array([ 0.,  0.,  0.,  0.,  0.])}\n"
     ]
    }
   ],
   "source": [
    "X_predict = {}\n",
    "NUM_PREDICT_EXAMPLES = 5\n",
    "\n",
    "with open(\"10k.anon.json\") as data: \n",
    "    for ind, line in enumerate(data):\n",
    "        if ind > 6000 and ind < 6005:\n",
    "            for ind, feature in enumerate(features):\n",
    "                if feature not in X_predict:\n",
    "                    X_predict[feature] = np.zeros(NUM_PREDICT_EXAMPLES)\n",
    "                    X_predict[feature][0] = float(obj[\"job\"][feature])\n",
    "                else:\n",
    "                    X_predict[feature][ind] = float(obj[\"job\"][feature])\n",
    "                    \n",
    "            print(obj[\"job\"][\"queue\"])\n",
    "        elif ind > 6004:\n",
    "            break\n",
    "\n",
    "            \n",
    "print(X_predict)"
   ]
  },
  {
   "cell_type": "code",
   "execution_count": 35,
   "metadata": {},
   "outputs": [
    {
     "name": "stdout",
     "output_type": "stream",
     "text": [
      "INFO:tensorflow:Restoring parameters from /var/folders/dr/9dqt0xgd2ng_4l3n_n8z9v9h0000gn/T/tmpivoo084v/model.ckpt-5\n",
      "[{'logits': array([-0.31683797,  0.31001115, -0.1707429 , -0.13384569], dtype=float32), 'probabilities': array([ 0.19121136,  0.35789099,  0.22129008,  0.22960757], dtype=float32), 'class_ids': array([1]), 'classes': array([b'1'], dtype=object)}, {'logits': array([-0.16307461,  0.20333187, -0.14378788, -0.21046299], dtype=float32), 'probabilities': array([ 0.226463  ,  0.32668227,  0.23087312,  0.21598159], dtype=float32), 'class_ids': array([1]), 'classes': array([b'1'], dtype=object)}, {'logits': array([-0.21756758,  0.21432582, -0.13004884, -0.20768178], dtype=float32), 'probabilities': array([ 0.21544442,  0.33182123,  0.23514955,  0.21758482], dtype=float32), 'class_ids': array([1]), 'classes': array([b'1'], dtype=object)}, {'logits': array([-0.21756758,  0.21432582, -0.13004884, -0.20768178], dtype=float32), 'probabilities': array([ 0.21544442,  0.33182123,  0.23514955,  0.21758482], dtype=float32), 'class_ids': array([1]), 'classes': array([b'1'], dtype=object)}, {'logits': array([-0.21756758,  0.21432582, -0.13004884, -0.20768178], dtype=float32), 'probabilities': array([ 0.21544442,  0.33182123,  0.23514955,  0.21758482], dtype=float32), 'class_ids': array([1]), 'classes': array([b'1'], dtype=object)}]\n"
     ]
    }
   ],
   "source": [
    "pred = estimator.predict(input_fn=lambda:eval_input_fn(X_predict, labels=None))\n",
    "print(list(pred))"
   ]
  },
  {
   "cell_type": "code",
   "execution_count": null,
   "metadata": {
    "collapsed": true
   },
   "outputs": [],
   "source": []
  }
 ],
 "metadata": {
  "kernelspec": {
   "display_name": "Python 3",
   "language": "python",
   "name": "python3"
  },
  "language_info": {
   "codemirror_mode": {
    "name": "ipython",
    "version": 3
   },
   "file_extension": ".py",
   "mimetype": "text/x-python",
   "name": "python",
   "nbconvert_exporter": "python",
   "pygments_lexer": "ipython3",
   "version": "3.6.3"
  }
 },
 "nbformat": 4,
 "nbformat_minor": 2
}
